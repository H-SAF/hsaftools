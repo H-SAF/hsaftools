{
 "cells": [
  {
   "cell_type": "code",
   "execution_count": 1,
   "id": "858ae6b3-a712-4c75-bc6b-43a39b533eee",
   "metadata": {},
   "outputs": [
    {
     "name": "stdout",
     "output_type": "stream",
     "text": [
      "['/home/shahn/.pyenv/versions/miniconda3-latest/lib/python312.zip', '/home/shahn/.pyenv/versions/miniconda3-latest/lib/python3.12', '/home/shahn/.pyenv/versions/miniconda3-latest/lib/python3.12/lib-dynload', '', '/home/shahn/.pyenv/versions/miniconda3-latest/lib/python3.12/site-packages']\n"
     ]
    }
   ],
   "source": [
    "import sys\n",
    "print(sys.path)"
   ]
  },
  {
   "cell_type": "code",
   "execution_count": null,
   "id": "83245e3b-5874-45a1-89da-bcdabf7db6b5",
   "metadata": {},
   "outputs": [],
   "source": []
  }
 ],
 "metadata": {
  "kernelspec": {
   "display_name": "Python 3 (ipykernel)",
   "language": "python",
   "name": "python3"
  },
  "language_info": {
   "codemirror_mode": {
    "name": "ipython",
    "version": 3
   },
   "file_extension": ".py",
   "mimetype": "text/x-python",
   "name": "python",
   "nbconvert_exporter": "python",
   "pygments_lexer": "ipython3",
   "version": "3.12.2"
  }
 },
 "nbformat": 4,
 "nbformat_minor": 5
}
