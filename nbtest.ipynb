{
 "cells": [
  {
   "cell_type": "markdown",
   "id": "8f4cd03c-5dfd-46a3-bc42-2e64927c12c1",
   "metadata": {},
   "source": [
    "# Contents\n",
    "- [Section 1](#Section-1)\n",
    "- [Section 2](#Section-2)\n",
    "- [Section 3](#Section-3)"
   ]
  },
  {
   "cell_type": "code",
   "execution_count": 1,
   "id": "6662330c-5494-47d7-aa69-c3ef2a3dd6c6",
   "metadata": {},
   "outputs": [
    {
     "name": "stdout",
     "output_type": "stream",
     "text": [
      "['/home/shahn/.pyenv/versions/miniconda3-latest/lib/python312.zip', '/home/shahn/.pyenv/versions/miniconda3-latest/lib/python3.12', '/home/shahn/.pyenv/versions/miniconda3-latest/lib/python3.12/lib-dynload', '', '/home/shahn/.pyenv/versions/miniconda3-latest/lib/python3.12/site-packages']\n"
     ]
    }
   ],
   "source": [
    "import sys\n",
    "print(sys.path)"
   ]
  },
  {
   "cell_type": "code",
   "execution_count": null,
   "id": "83245e3b-5874-45a1-89da-bcdabf7db6b5",
   "metadata": {},
   "outputs": [],
   "source": []
  }
 ],
 "metadata": {
  "kernelspec": {
   "display_name": "Python 3 (ipykernel)",
   "language": "python",
   "name": "python3"
  },
  "language_info": {
   "codemirror_mode": {
    "name": "ipython",
    "version": 3
   },
   "file_extension": ".py",
   "mimetype": "text/x-python",
   "name": "python",
   "nbconvert_exporter": "python",
   "pygments_lexer": "ipython3",
   "version": "3.12.2"
  }
 },
 "nbformat": 4,
 "nbformat_minor": 5
}
